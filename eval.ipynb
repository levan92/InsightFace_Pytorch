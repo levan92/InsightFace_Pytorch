{
 "cells": [
  {
   "cell_type": "markdown",
   "metadata": {},
   "source": [
    "### TPR\n",
    "TP / (TP + FN)\n",
    "Out of all the Positives, how many we correctly let in\n",
    "\n",
    "### FPR\n",
    "FP / (FP + TN)\n",
    "Out of all the Negatives, how many we let in"
   ]
  },
  {
   "cell_type": "code",
   "execution_count": null,
   "metadata": {},
   "outputs": [],
   "source": [
    "def evaluate(embeddings, actual_issame, nrof_folds=10, pca=0):\n",
    "    # Calculate evaluation metrics\n",
    "    thresholds = np.arange(0, 4, 0.01)\n",
    "    embeddings1 = embeddings[0::2]\n",
    "    embeddings2 = embeddings[1::2]\n",
    "    tpr, fpr, accuracy, best_thresholds = calculate_roc(thresholds, embeddings1, embeddings2,\n",
    "                                       np.asarray(actual_issame), nrof_folds=nrof_folds, pca=pca)\n",
    "#     thresholds = np.arange(0, 4, 0.001)\n",
    "#     val, val_std, far = calculate_val(thresholds, embeddings1, embeddings2,\n",
    "#                                       np.asarray(actual_issame), 1e-3, nrof_folds=nrof_folds)\n",
    "#     return tpr, fpr, accuracy, best_thresholds, val, val_std, far\n",
    "    return tpr, fpr, accuracy, best_thresholds"
   ]
  },
  {
   "cell_type": "code",
   "execution_count": null,
   "metadata": {},
   "outputs": [],
   "source": [
    "def calculate_roc(thresholds, embeddings1, embeddings2, actual_issame, nrof_folds=10, pca=0):\n",
    "    assert (embeddings1.shape[0] == embeddings2.shape[0])\n",
    "    assert (embeddings1.shape[1] == embeddings2.shape[1])\n",
    "    nrof_pairs = min(len(actual_issame), embeddings1.shape[0])\n",
    "    nrof_thresholds = len(thresholds)\n",
    "    k_fold = KFold(n_splits=nrof_folds, shuffle=False)\n",
    "\n",
    "    tprs = np.zeros((nrof_folds, nrof_thresholds))\n",
    "    fprs = np.zeros((nrof_folds, nrof_thresholds))\n",
    "    accuracy = np.zeros((nrof_folds))\n",
    "    best_thresholds = np.zeros((nrof_folds))\n",
    "    indices = np.arange(nrof_pairs)\n",
    "    # print('pca', pca)\n",
    "\n",
    "    if pca == 0:\n",
    "        diff = np.subtract(embeddings1, embeddings2)\n",
    "        dist = np.sum(np.square(diff), 1)\n",
    "\n",
    "    for fold_idx, (train_set, test_set) in enumerate(k_fold.split(indices)):\n",
    "        # print('train_set', train_set)\n",
    "        # print('test_set', test_set)\n",
    "        if pca > 0:\n",
    "            print('doing pca on', fold_idx)\n",
    "            embed1_train = embeddings1[train_set]\n",
    "            embed2_train = embeddings2[train_set]\n",
    "            _embed_train = np.concatenate((embed1_train, embed2_train), axis=0)\n",
    "            # print(_embed_train.shape)\n",
    "            pca_model = PCA(n_components=pca)\n",
    "            pca_model.fit(_embed_train)\n",
    "            embed1 = pca_model.transform(embeddings1)\n",
    "            embed2 = pca_model.transform(embeddings2)\n",
    "            embed1 = sklearn.preprocessing.normalize(embed1)\n",
    "            embed2 = sklearn.preprocessing.normalize(embed2)\n",
    "            # print(embed1.shape, embed2.shape)\n",
    "            diff = np.subtract(embed1, embed2)\n",
    "            dist = np.sum(np.square(diff), 1)\n",
    "\n",
    "        # Find the best threshold for the fold\n",
    "        acc_train = np.zeros((nrof_thresholds))\n",
    "        for threshold_idx, threshold in enumerate(thresholds):\n",
    "            _, _, acc_train[threshold_idx] = calculate_accuracy(threshold, dist[train_set], actual_issame[train_set])\n",
    "        best_threshold_index = np.argmax(acc_train)\n",
    "#         print('best_threshold_index', best_threshold_index, acc_train[best_threshold_index])\n",
    "        best_thresholds[fold_idx] = thresholds[best_threshold_index]\n",
    "        for threshold_idx, threshold in enumerate(thresholds):\n",
    "            tprs[fold_idx, threshold_idx], fprs[fold_idx, threshold_idx], _ = calculate_accuracy(threshold,\n",
    "                                                                                                 dist[test_set],\n",
    "                                                                                                 actual_issame[\n",
    "                                                                                                     test_set])\n",
    "        _, _, accuracy[fold_idx] = calculate_accuracy(thresholds[best_threshold_index], dist[test_set],\n",
    "                                                      actual_issame[test_set])\n",
    "\n",
    "    tpr = np.mean(tprs, 0)\n",
    "    fpr = np.mean(fprs, 0)\n",
    "    return tpr, fpr, accuracy, best_thresholds\n",
    "\n"
   ]
  }
 ],
 "metadata": {
  "kernelspec": {
   "display_name": "Python 3",
   "language": "python",
   "name": "python3"
  },
  "language_info": {
   "codemirror_mode": {
    "name": "ipython",
    "version": 3
   },
   "file_extension": ".py",
   "mimetype": "text/x-python",
   "name": "python",
   "nbconvert_exporter": "python",
   "pygments_lexer": "ipython3",
   "version": "3.6.8"
  }
 },
 "nbformat": 4,
 "nbformat_minor": 2
}
