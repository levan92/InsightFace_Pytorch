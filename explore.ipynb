{
 "cells": [
  {
   "cell_type": "code",
   "execution_count": 2,
   "metadata": {
    "collapsed": false
   },
   "outputs": [],
   "source": [
    "import cv2\n",
    "from PIL import Image\n",
    "from pathlib import Path\n",
    "import torch\n",
    "from config import get_config\n",
    "# from utils import load_facebank, draw_box_name, prepare_facebank\n",
    "from arcface_infer import Arcface"
   ]
  },
  {
   "cell_type": "code",
   "execution_count": 3,
   "metadata": {
    "collapsed": false
   },
   "outputs": [
    {
     "name": "stdout",
     "output_type": "stream",
     "text": [
      "{'vgg_folder': PosixPath('data/faces_vgg_112x112'), 'data_mode': 'emore', 'model_path': './model_ir_se50.pth', 'work_path': PosixPath('work_space'), 'input_size': [112, 112], 'emore_folder': PosixPath('data/faces_emore'), 'ms1m_folder': PosixPath('data/faces_ms1m_112x112'), 'device': device(type='cuda', index=0), 'threshold': 1.5, 'test_transform': Compose(\n",
      "    Resize(size=[112, 112], interpolation=PIL.Image.BILINEAR)\n",
      "    ToTensor()\n",
      "    Normalize(mean=[0.5, 0.5, 0.5], std=[0.5, 0.5, 0.5])\n",
      "), 'net_mode': 'ir_se', 'net_depth': 50, 'min_face_size': 30, 'face_limit': 10, 'facebank_path': PosixPath('data/facebank'), 'batch_size': 100, 'use_mobilfacenet': False, 'embedding_size': 512, 'data_path': PosixPath('data'), 'drop_ratio': 0.6}\n",
      "ir_se_50 model generated\n"
     ]
    }
   ],
   "source": [
    "conf = get_config(training = False)\n",
    "arcface = Arcface(conf)"
   ]
  },
  {
   "cell_type": "code",
   "execution_count": 4,
   "metadata": {
    "collapsed": false
   },
   "outputs": [],
   "source": [
    "evan_path = '/home/levan/Pictures/evan_query.png'\n",
    "# e1 = cv2.imread(evan_path)\n",
    "# e1 = Image.fromarray(e1)\n",
    "e1 = Image.open(evan_path)\n",
    "e2 = Image.open('/home/levan/Pictures/evan_query2.png')\n",
    "jy = Image.open('/home/levan/Pictures/junyu.png')\n",
    "niche = Image.open('/home/levan/Pictures/niche_query.png')"
   ]
  },
  {
   "cell_type": "code",
   "execution_count": 6,
   "metadata": {
    "collapsed": false
   },
   "outputs": [
    {
     "data": {
      "image/png": "[encoded data removed]",
      "text/plain": [
       "<PIL.PngImagePlugin.PngImageFile image mode=RGB size=100x130 at 0x7F5D3C02B438>"
      ]
     },
     "execution_count": 6,
     "metadata": {},
     "output_type": "execute_result"
    }
   ],
   "source": [
    "jy"
   ]
  },
  {
   "cell_type": "code",
   "execution_count": 7,
   "metadata": {
    "collapsed": false
   },
   "outputs": [],
   "source": [
    "res = arcface.embed(conf, [e1, e2, jy, niche] , tta=True)"
   ]
  },
  {
   "cell_type": "code",
   "execution_count": 8,
   "metadata": {
    "collapsed": false
   },
   "outputs": [
    {
     "data": {
      "text/plain": [
       "4"
      ]
     },
     "execution_count": 8,
     "metadata": {},
     "output_type": "execute_result"
    }
   ],
   "source": [
    "len(res)"
   ]
  },
  {
   "cell_type": "code",
   "execution_count": 9,
   "metadata": {
    "collapsed": true
   },
   "outputs": [],
   "source": [
    "import numpy as np"
   ]
  },
  {
   "cell_type": "code",
   "execution_count": 10,
   "metadata": {
    "collapsed": false
   },
   "outputs": [
    {
     "data": {
      "text/plain": [
       "1.1344151"
      ]
     },
     "execution_count": 10,
     "metadata": {},
     "output_type": "execute_result"
    }
   ],
   "source": [
    "np.linalg.norm(res[0] - res[1])"
   ]
  },
  {
   "cell_type": "code",
   "execution_count": 11,
   "metadata": {
    "collapsed": false,
    "deletable": true,
    "editable": true
   },
   "outputs": [],
   "source": [
    "from scipy.spatial import distance_matrix\n",
    "dist_mat = distance_matrix(res, res)"
   ]
  },
  {
   "cell_type": "code",
   "execution_count": 12,
   "metadata": {
    "collapsed": false
   },
   "outputs": [
    {
     "data": {
      "text/plain": [
       "(4, 4)"
      ]
     },
     "execution_count": 12,
     "metadata": {},
     "output_type": "execute_result"
    }
   ],
   "source": [
    "dist_mat.shape"
   ]
  },
  {
   "cell_type": "code",
   "execution_count": 13,
   "metadata": {
    "collapsed": false
   },
   "outputs": [
    {
     "data": {
      "text/plain": [
       "array([[0.       , 1.1344151, 1.312006 , 1.137522 ],\n",
       "       [1.1344151, 0.       , 1.221928 , 1.2629033],\n",
       "       [1.312006 , 1.221928 , 0.       , 1.3873122],\n",
       "       [1.137522 , 1.2629033, 1.3873122, 0.       ]], dtype=float32)"
      ]
     },
     "execution_count": 13,
     "metadata": {},
     "output_type": "execute_result"
    }
   ],
   "source": [
    "dist_mat"
   ]
  },
  {
   "cell_type": "code",
   "execution_count": null,
   "metadata": {
    "collapsed": true
   },
   "outputs": [],
   "source": []
  }
 ],
 "metadata": {
  "kernelspec": {
   "display_name": "Python 3",
   "language": "python",
   "name": "python3"
  },
  "language_info": {
   "codemirror_mode": {
    "name": "ipython",
    "version": 3
   },
   "file_extension": ".py",
   "mimetype": "text/x-python",
   "name": "python",
   "nbconvert_exporter": "python",
   "pygments_lexer": "ipython3",
   "version": "3.5.2"
  }
 },
 "nbformat": 4,
 "nbformat_minor": 2
}
